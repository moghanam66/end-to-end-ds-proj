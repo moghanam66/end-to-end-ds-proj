{
 "cells": [
  {
   "cell_type": "code",
   "execution_count": 1,
   "id": "ed3bef66-ff21-4577-8b95-aee89c6a5b22",
   "metadata": {},
   "outputs": [],
   "source": [
    "LOG_DATA_PKL    =  \"data.pkl\"\n",
    "LOG_MODEL_PKL   =  \"model.pkl\"\n",
    "\n",
    "TRACKING_URI = \"file:///home/deena_gergis/iti/iti_e2e_live/notebooks/mlruns/\"\n",
    "EXPERIMENT_ID = \"1\"\n",
    "RUN_ID = \"4c35a9c9d26a48e8bfccfae05a63d348\""
   ]
  },
  {
   "cell_type": "code",
   "execution_count": 2,
   "id": "00b8e7fc-c8c4-4a99-8866-243419a39b7a",
   "metadata": {},
   "outputs": [],
   "source": [
    "import os \n",
    "import sklearn\n",
    "import pickle\n",
    "import yaml\n",
    "\n",
    "import pandas as pd\n",
    "\n",
    "import mlflow\n",
    "from mlflow.tracking import MlflowClient"
   ]
  },
  {
   "cell_type": "markdown",
   "id": "a3b1dcf3-5871-4356-bd13-89ed7d8fa5e4",
   "metadata": {},
   "source": [
    "## Load model "
   ]
  },
  {
   "cell_type": "code",
   "execution_count": 3,
   "id": "86997318-a887-4cb3-af10-a8b87777d4a2",
   "metadata": {},
   "outputs": [],
   "source": [
    "artifact_path = os.path.join(TRACKING_URI.replace(\"file://\", \"\"), \n",
    "                             EXPERIMENT_ID, \n",
    "                             RUN_ID, \n",
    "                             'artifacts')"
   ]
  },
  {
   "cell_type": "code",
   "execution_count": 4,
   "id": "a44f70b7-d158-4f21-aae2-b05ddbb68946",
   "metadata": {},
   "outputs": [],
   "source": [
    "# Load data pkl\n",
    "data_path  = os.path.join(artifact_path, LOG_DATA_PKL)\n",
    "with open(data_path, 'rb') as handle:\n",
    "    data_pkl = pickle.load(handle)"
   ]
  },
  {
   "cell_type": "code",
   "execution_count": 5,
   "id": "a5157f14-9347-45fb-bfce-6247f1e508e1",
   "metadata": {},
   "outputs": [],
   "source": [
    "# Load model pkl\n",
    "model_path = os.path.join(artifact_path, LOG_MODEL_PKL)\n",
    "with open(model_path, 'rb') as handle:\n",
    "    model_pkl = pickle.load(handle)\n",
    "\n",
    "model = model_pkl[\"model_object\"]"
   ]
  },
  {
   "cell_type": "code",
   "execution_count": 6,
   "id": "606e3bfd-a5cb-41e0-a02b-006f7efc8cac",
   "metadata": {},
   "outputs": [
    {
     "data": {
      "text/plain": [
       "Pipeline(steps=[('standardscaler', StandardScaler()),\n",
       "                ('featureunion',\n",
       "                 FeatureUnion(transformer_list=[('linear_pca',\n",
       "                                                 PCA(n_components=40)),\n",
       "                                                ('kernel_pca',\n",
       "                                                 KernelPCA(kernel='rbf',\n",
       "                                                           n_components=40))])),\n",
       "                ('randomforestclassifier',\n",
       "                 RandomForestClassifier(random_state=0))])"
      ]
     },
     "execution_count": 6,
     "metadata": {},
     "output_type": "execute_result"
    }
   ],
   "source": [
    "model"
   ]
  },
  {
   "cell_type": "markdown",
   "id": "3db2edec-76b3-4d15-a1e0-c6dd34a97b40",
   "metadata": {
    "tags": []
   },
   "source": [
    "## Predict sample entry "
   ]
  },
  {
   "cell_type": "code",
   "execution_count": 7,
   "id": "c2873d0b-4827-4d96-ad7f-c1d910359515",
   "metadata": {},
   "outputs": [],
   "source": [
    "CLUSTERS_YAML_PATH = \"../data/processed/features_skills_clusters_description.yaml\""
   ]
  },
  {
   "cell_type": "code",
   "execution_count": 8,
   "id": "88b59211-7049-48bf-ab91-ea8261a75db5",
   "metadata": {},
   "outputs": [
    {
     "data": {
      "text/plain": [
       "'../data/processed/features_skills_clusters_description.yaml'"
      ]
     },
     "execution_count": 8,
     "metadata": {},
     "output_type": "execute_result"
    }
   ],
   "source": [
    "CLUSTERS_YAML_PATH"
   ]
  },
  {
   "cell_type": "code",
   "execution_count": 9,
   "id": "1a7ac45f-ecca-433e-a54f-5c0b00cac31c",
   "metadata": {},
   "outputs": [],
   "source": [
    "with open(CLUSTERS_YAML_PATH, \"r\") as stream:\n",
    "    clusters_config = yaml.safe_load(stream)"
   ]
  },
  {
   "cell_type": "code",
   "execution_count": 11,
   "id": "11372afe-1fa0-4626-b4d6-3b7aee3a930d",
   "metadata": {},
   "outputs": [],
   "source": [
    "molten_clusters = [(cluster_name, cluster_skill)\n",
    "                   for cluster_name, cluster_skills in clusters_config.items()\n",
    "                   for cluster_skill in cluster_skills]\n",
    "\n",
    "clusters_df = pd.DataFrame(molten_clusters, columns=[\"cluster_name\", \"skill\"])"
   ]
  },
  {
   "cell_type": "markdown",
   "id": "3398e5cb-925a-418e-8bd3-e0fe533bd78a",
   "metadata": {
    "tags": []
   },
   "source": [
    "### Recreate cluster features "
   ]
  },
  {
   "cell_type": "code",
   "execution_count": null,
   "id": "e66c168d-1213-4d04-9a3b-b8068d9b0732",
   "metadata": {},
   "outputs": [],
   "source": [
    "sample_skills = ['Pandas', 'TensorFlow', 'Torch/PyTorch', 'Python', 'Keras']"
   ]
  },
  {
   "cell_type": "code",
   "execution_count": null,
   "id": "ccb1f39a-71dd-479b-a7c1-f6c15b16687d",
   "metadata": {},
   "outputs": [],
   "source": [
    "sample_clusters = clusters_df.copy()"
   ]
  },
  {
   "cell_type": "code",
   "execution_count": null,
   "id": "3b8891b5-d5ff-4e46-856a-4c06c7ed47de",
   "metadata": {},
   "outputs": [],
   "source": [
    "sample_clusters[\"sample_skills\"] = sample_clusters[\"skill\"].isin(sample_skills)"
   ]
  },
  {
   "cell_type": "code",
   "execution_count": null,
   "id": "262b7f9f-9318-466f-bba8-861db1739d76",
   "metadata": {},
   "outputs": [],
   "source": [
    "cluster_features = sample_clusters.groupby(\"cluster_name\")[\"sample_skills\"].sum()"
   ]
  },
  {
   "cell_type": "code",
   "execution_count": null,
   "id": "798b77a4-1799-4d10-8b1a-51dd4b4ec3bf",
   "metadata": {},
   "outputs": [
    {
     "data": {
      "text/plain": [
       "cluster_name\n",
       "skills_group_0     0\n",
       "skills_group_1     0\n",
       "skills_group_10    0\n",
       "skills_group_11    0\n",
       "skills_group_12    0\n",
       "skills_group_13    0\n",
       "skills_group_14    0\n",
       "skills_group_15    0\n",
       "skills_group_16    0\n",
       "skills_group_2     0\n",
       "skills_group_3     0\n",
       "skills_group_4     0\n",
       "skills_group_5     1\n",
       "skills_group_6     0\n",
       "skills_group_7     4\n",
       "skills_group_8     0\n",
       "skills_group_9     0\n",
       "Name: sample_skills, dtype: int64"
      ]
     },
     "execution_count": 16,
     "metadata": {},
     "output_type": "execute_result"
    }
   ],
   "source": [
    "cluster_features"
   ]
  },
  {
   "cell_type": "markdown",
   "id": "ec197a4b-4526-4e26-98c7-920f8e98fb7c",
   "metadata": {
    "tags": []
   },
   "source": [
    "### Create OneHotEncoded skills "
   ]
  },
  {
   "cell_type": "code",
   "execution_count": null,
   "id": "8f96e8a4-c670-4baa-8669-fcbbc6f9e354",
   "metadata": {},
   "outputs": [],
   "source": [
    "features_names = pd.Series(data_pkl[\"features_names\"])"
   ]
  },
  {
   "cell_type": "code",
   "execution_count": 32,
   "id": "8c742f25-500d-48cb-8f9b-167da9902aa9",
   "metadata": {},
   "outputs": [],
   "source": [
    "skills_names = features_names[~features_names.isin(cluster_features.index)]"
   ]
  },
  {
   "cell_type": "code",
   "execution_count": 34,
   "id": "2db39492-e2ff-441a-bcbd-31658a2797e3",
   "metadata": {},
   "outputs": [
    {
     "data": {
      "text/plain": [
       "['Pandas', 'TensorFlow', 'Torch/PyTorch', 'Python', 'Keras']"
      ]
     },
     "execution_count": 34,
     "metadata": {},
     "output_type": "execute_result"
    }
   ],
   "source": [
    "sample_skills"
   ]
  },
  {
   "cell_type": "code",
   "execution_count": 33,
   "id": "0cf7e383-8579-48ed-a7a1-753549dd25d4",
   "metadata": {},
   "outputs": [
    {
     "data": {
      "text/plain": [
       "0                  Assembly\n",
       "1     Bash/Shell/PowerShell\n",
       "2                         C\n",
       "3                        C#\n",
       "4                       C++\n",
       "              ...          \n",
       "69                 Teraform\n",
       "70            Torch/PyTorch\n",
       "71                 Unity 3D\n",
       "72            Unreal Engine\n",
       "73                  Xamarin\n",
       "Length: 74, dtype: object"
      ]
     },
     "execution_count": 33,
     "metadata": {},
     "output_type": "execute_result"
    }
   ],
   "source": [
    "skills_names"
   ]
  },
  {
   "cell_type": "code",
   "execution_count": null,
   "id": "7bb8366b-31d1-481a-83fd-8a91dfe48955",
   "metadata": {},
   "outputs": [],
   "source": [
    "skills_names = features_names[~features_names.isin(cluster_features.index)]"
   ]
  },
  {
   "cell_type": "code",
   "execution_count": 35,
   "id": "3da1b14e-1772-4493-855f-db2f63b27c5f",
   "metadata": {},
   "outputs": [],
   "source": [
    "ohe_skills = pd.Series(skills_names.isin(sample_skills).astype(int).tolist(), \n",
    "                       index=skills_names)"
   ]
  },
  {
   "cell_type": "code",
   "execution_count": 36,
   "id": "febc690a-0656-4a83-bdca-bf2e980ab9c1",
   "metadata": {},
   "outputs": [
    {
     "data": {
      "text/plain": [
       "Assembly                 0\n",
       "Bash/Shell/PowerShell    0\n",
       "C                        0\n",
       "C#                       0\n",
       "C++                      0\n",
       "                        ..\n",
       "Teraform                 0\n",
       "Torch/PyTorch            1\n",
       "Unity 3D                 0\n",
       "Unreal Engine            0\n",
       "Xamarin                  0\n",
       "Length: 74, dtype: int64"
      ]
     },
     "execution_count": 36,
     "metadata": {},
     "output_type": "execute_result"
    }
   ],
   "source": [
    "ohe_skills"
   ]
  },
  {
   "cell_type": "markdown",
   "id": "10679807-6733-49f6-a6a5-b0d472f09b09",
   "metadata": {
    "tags": []
   },
   "source": [
    "### Combine features "
   ]
  },
  {
   "cell_type": "code",
   "execution_count": 37,
   "id": "0f5dcb97-beb4-48df-99b5-f78794cfb36f",
   "metadata": {},
   "outputs": [],
   "source": [
    "features = pd.concat([ohe_skills, cluster_features])"
   ]
  },
  {
   "cell_type": "code",
   "execution_count": 38,
   "id": "6eb9d705-509e-44a5-b48f-8d5709179502",
   "metadata": {},
   "outputs": [],
   "source": [
    "features = features[data_pkl[\"features_names\"]]"
   ]
  },
  {
   "cell_type": "code",
   "execution_count": 39,
   "id": "eb7a7a2e-537f-469d-9fec-e0f3712108af",
   "metadata": {},
   "outputs": [
    {
     "data": {
      "text/plain": [
       "Assembly                 0\n",
       "Bash/Shell/PowerShell    0\n",
       "C                        0\n",
       "C#                       0\n",
       "C++                      0\n",
       "                        ..\n",
       "skills_group_5           1\n",
       "skills_group_6           0\n",
       "skills_group_7           4\n",
       "skills_group_8           0\n",
       "skills_group_9           0\n",
       "Length: 91, dtype: int64"
      ]
     },
     "execution_count": 39,
     "metadata": {},
     "output_type": "execute_result"
    }
   ],
   "source": [
    "features"
   ]
  },
  {
   "cell_type": "markdown",
   "id": "7151e391-62d6-4178-9d8a-b20d97f8e927",
   "metadata": {
    "tags": []
   },
   "source": [
    "### Predict"
   ]
  },
  {
   "cell_type": "code",
   "execution_count": 40,
   "id": "2176c307-de94-405b-bc6a-edb1f6fa2ce0",
   "metadata": {},
   "outputs": [
    {
     "data": {
      "text/plain": [
       "Data scientist or machine learning specialist    0.935\n",
       "Scientist                                        0.130\n",
       "Academic researcher                              0.065\n",
       "Data or business analyst                         0.030\n",
       "Engineer, data                                   0.020\n",
       "Developer, back-end                              0.010\n",
       "Developer, full-stack                            0.010\n",
       "Database administrator                           0.000\n",
       "DevOps specialist                                0.000\n",
       "Developer, QA or test                            0.000\n",
       "Developer, desktop or enterprise applications    0.000\n",
       "Developer, embedded applications or devices      0.000\n",
       "Developer, front-end                             0.000\n",
       "Developer, game or graphics                      0.000\n",
       "Developer, mobile                                0.000\n",
       "System administrator                             0.000\n",
       "dtype: float64"
      ]
     },
     "execution_count": 40,
     "metadata": {},
     "output_type": "execute_result"
    }
   ],
   "source": [
    "predictions = model.predict_proba([features.values])\n",
    "positive_probs = [prob[0][1] for prob in predictions]\n",
    "pd.Series(positive_probs, \n",
    "          index=data_pkl[\"targets_names\"]).sort_values(ascending=False)"
   ]
  },
  {
   "cell_type": "code",
   "execution_count": null,
   "id": "eb893e35-6fa5-4e9e-aeb7-3cd8591a79e9",
   "metadata": {},
   "outputs": [],
   "source": []
  },
  {
   "cell_type": "code",
   "execution_count": null,
   "id": "3cdb7e2a-6600-4386-8bbb-eda1b4070634",
   "metadata": {},
   "outputs": [],
   "source": []
  }
 ],
 "metadata": {
  "kernelspec": {
   "display_name": "Python 3 (ipykernel)",
   "language": "python",
   "name": "python3"
  },
  "language_info": {
   "codemirror_mode": {
    "name": "ipython",
    "version": 3
   },
   "file_extension": ".py",
   "mimetype": "text/x-python",
   "name": "python",
   "nbconvert_exporter": "python",
   "pygments_lexer": "ipython3",
   "version": "3.8.8"
  }
 },
 "nbformat": 4,
 "nbformat_minor": 5
}
