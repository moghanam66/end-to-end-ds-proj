{
 "cells": [
  {
   "cell_type": "code",
   "execution_count": 1,
   "id": "ca94c057-d072-4966-a950-7e58566c6fd8",
   "metadata": {},
   "outputs": [],
   "source": [
    "PREDICTION_URL = 'http://127.0.0.1:5000/predict_jobs_probs'"
   ]
  },
  {
   "cell_type": "code",
   "execution_count": 2,
   "id": "f929c3a3-e15f-475b-8721-7665b704c3e9",
   "metadata": {},
   "outputs": [],
   "source": [
    "import requests\n",
    "import json\n",
    "import pandas as pd"
   ]
  },
  {
   "cell_type": "code",
   "execution_count": 6,
   "id": "496aa124-e377-4419-8cf9-082cb06d5ff0",
   "metadata": {},
   "outputs": [],
   "source": [
    "available_skills = ['Pandas', 'TensorFlow', 'Torch/PyTorch', 'Python']\n",
    "\n",
    "response = requests.post(PREDICTION_URL, \n",
    "                         data=json.dumps(available_skills), \n",
    "                         headers={'content-type':'application/json'})"
   ]
  },
  {
   "cell_type": "code",
   "execution_count": 7,
   "id": "1e99dfd9-ff22-4bce-a240-a96d4644dc91",
   "metadata": {},
   "outputs": [],
   "source": [
    "probs = json.loads(response.text)"
   ]
  },
  {
   "cell_type": "code",
   "execution_count": 8,
   "id": "aa8ba7dd-aac6-4707-8afd-c99aa873f3c4",
   "metadata": {},
   "outputs": [
    {
     "data": {
      "text/plain": [
       "Data scientist or machine learning specialist    0.754714\n",
       "Academic researcher                              0.305000\n",
       "Scientist                                        0.255286\n",
       "Data or business analyst                         0.075000\n",
       "Developer, full-stack                            0.054714\n",
       "Developer, embedded applications or devices      0.050000\n",
       "Engineer, data                                   0.012000\n",
       "Developer, game or graphics                      0.010000\n",
       "Developer, back-end                              0.005000\n",
       "Database administrator                           0.000000\n",
       "DevOps specialist                                0.000000\n",
       "Developer, QA or test                            0.000000\n",
       "Developer, desktop or enterprise applications    0.000000\n",
       "Developer, front-end                             0.000000\n",
       "Developer, mobile                                0.000000\n",
       "System administrator                             0.000000\n",
       "dtype: float64"
      ]
     },
     "execution_count": 8,
     "metadata": {},
     "output_type": "execute_result"
    }
   ],
   "source": [
    "pd.Series(probs).sort_values(ascending=False)"
   ]
  },
  {
   "cell_type": "code",
   "execution_count": null,
   "id": "00103548-381e-4c11-a770-108121f07f69",
   "metadata": {},
   "outputs": [],
   "source": []
  }
 ],
 "metadata": {
  "kernelspec": {
   "display_name": "Python 3 (ipykernel)",
   "language": "python",
   "name": "python3"
  },
  "language_info": {
   "codemirror_mode": {
    "name": "ipython",
    "version": 3
   },
   "file_extension": ".py",
   "mimetype": "text/x-python",
   "name": "python",
   "nbconvert_exporter": "python",
   "pygments_lexer": "ipython3",
   "version": "3.8.8"
  }
 },
 "nbformat": 4,
 "nbformat_minor": 5
}
